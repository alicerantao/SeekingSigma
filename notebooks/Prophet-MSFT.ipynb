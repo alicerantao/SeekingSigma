{
 "cells": [
  {
   "cell_type": "code",
   "execution_count": 1,
   "id": "df7f70f5",
   "metadata": {},
   "outputs": [],
   "source": [
    "import pandas as pd\n",
    "import datetime as dt\n",
    "from datetime import timedelta, date\n",
    "from datetime import datetime"
   ]
  },
  {
   "cell_type": "code",
   "execution_count": 2,
   "id": "54ed926d",
   "metadata": {},
   "outputs": [
    {
     "name": "stderr",
     "output_type": "stream",
     "text": [
      "Importing plotly failed. Interactive plots will not work.\n"
     ]
    }
   ],
   "source": [
    "import pandas as pd\n",
    "from prophet import Prophet"
   ]
  },
  {
   "cell_type": "code",
   "execution_count": 24,
   "id": "a91be8fe",
   "metadata": {},
   "outputs": [],
   "source": []
  },
  {
   "cell_type": "code",
   "execution_count": 50,
   "id": "ef4be7a5",
   "metadata": {},
   "outputs": [],
   "source": [
    "data_yh = pd.read_csv(\"raw_data/MSFT_2021-12-19.csv\")"
   ]
  },
  {
   "cell_type": "code",
   "execution_count": 51,
   "id": "4efcc321",
   "metadata": {},
   "outputs": [],
   "source": [
    "df = data_yh[['Date', 'Open', 'Close', 'Low', 'High']]"
   ]
  },
  {
   "cell_type": "code",
   "execution_count": 52,
   "id": "d8cdc08c",
   "metadata": {},
   "outputs": [],
   "source": [
    "df=df.rename(columns={'Date': 'ds', 'Open': 'y', 'Close': 'close', 'Low': 'low', 'High': 'high'})"
   ]
  },
  {
   "cell_type": "code",
   "execution_count": 45,
   "id": "c78db038",
   "metadata": {},
   "outputs": [
    {
     "data": {
      "text/html": [
       "<div>\n",
       "<style scoped>\n",
       "    .dataframe tbody tr th:only-of-type {\n",
       "        vertical-align: middle;\n",
       "    }\n",
       "\n",
       "    .dataframe tbody tr th {\n",
       "        vertical-align: top;\n",
       "    }\n",
       "\n",
       "    .dataframe thead th {\n",
       "        text-align: right;\n",
       "    }\n",
       "</style>\n",
       "<table border=\"1\" class=\"dataframe\">\n",
       "  <thead>\n",
       "    <tr style=\"text-align: right;\">\n",
       "      <th></th>\n",
       "      <th>ds</th>\n",
       "      <th>y</th>\n",
       "      <th>close</th>\n",
       "      <th>low</th>\n",
       "      <th>high</th>\n",
       "    </tr>\n",
       "  </thead>\n",
       "  <tbody>\n",
       "    <tr>\n",
       "      <th>0</th>\n",
       "      <td>2017-01-03</td>\n",
       "      <td>62.790001</td>\n",
       "      <td>62.580002</td>\n",
       "      <td>62.130001</td>\n",
       "      <td>62.840000</td>\n",
       "    </tr>\n",
       "    <tr>\n",
       "      <th>1</th>\n",
       "      <td>2017-01-04</td>\n",
       "      <td>62.480000</td>\n",
       "      <td>62.299999</td>\n",
       "      <td>62.119999</td>\n",
       "      <td>62.750000</td>\n",
       "    </tr>\n",
       "    <tr>\n",
       "      <th>2</th>\n",
       "      <td>2017-01-05</td>\n",
       "      <td>62.189999</td>\n",
       "      <td>62.299999</td>\n",
       "      <td>62.029999</td>\n",
       "      <td>62.660000</td>\n",
       "    </tr>\n",
       "    <tr>\n",
       "      <th>3</th>\n",
       "      <td>2017-01-06</td>\n",
       "      <td>62.299999</td>\n",
       "      <td>62.840000</td>\n",
       "      <td>62.040001</td>\n",
       "      <td>63.150002</td>\n",
       "    </tr>\n",
       "    <tr>\n",
       "      <th>4</th>\n",
       "      <td>2017-01-09</td>\n",
       "      <td>62.759998</td>\n",
       "      <td>62.639999</td>\n",
       "      <td>62.540001</td>\n",
       "      <td>63.080002</td>\n",
       "    </tr>\n",
       "  </tbody>\n",
       "</table>\n",
       "</div>"
      ],
      "text/plain": [
       "           ds          y      close        low       high\n",
       "0  2017-01-03  62.790001  62.580002  62.130001  62.840000\n",
       "1  2017-01-04  62.480000  62.299999  62.119999  62.750000\n",
       "2  2017-01-05  62.189999  62.299999  62.029999  62.660000\n",
       "3  2017-01-06  62.299999  62.840000  62.040001  63.150002\n",
       "4  2017-01-09  62.759998  62.639999  62.540001  63.080002"
      ]
     },
     "execution_count": 45,
     "metadata": {},
     "output_type": "execute_result"
    }
   ],
   "source": [
    "df.head()"
   ]
  },
  {
   "cell_type": "code",
   "execution_count": 53,
   "id": "15c21464",
   "metadata": {},
   "outputs": [],
   "source": [
    "df_test = df[680:]\n",
    "df_train = df[0:680]"
   ]
  },
  {
   "cell_type": "code",
   "execution_count": 54,
   "id": "5dcede39",
   "metadata": {},
   "outputs": [
    {
     "name": "stderr",
     "output_type": "stream",
     "text": [
      "INFO:prophet:Disabling daily seasonality. Run prophet with daily_seasonality=True to override this.\n",
      "/Users/ps306w/venvs/seeking_sigma/lib/python3.9/site-packages/prophet/forecaster.py:896: FutureWarning: The frame.append method is deprecated and will be removed from pandas in a future version. Use pandas.concat instead.\n",
      "  components = components.append(new_comp)\n"
     ]
    },
    {
     "name": "stdout",
     "output_type": "stream",
     "text": [
      "Initial log joint probability = -2.5631\n"
     ]
    },
    {
     "data": {
      "text/plain": [
       "<prophet.forecaster.Prophet at 0x1238534c0>"
      ]
     },
     "execution_count": 54,
     "metadata": {},
     "output_type": "execute_result"
    },
    {
     "name": "stdout",
     "output_type": "stream",
     "text": [
      "    Iter      log prob        ||dx||      ||grad||       alpha      alpha0  # evals  Notes \n",
      "      99       3425.63     0.0183959       11126.7           1           1      117   \n",
      "    Iter      log prob        ||dx||      ||grad||       alpha      alpha0  # evals  Notes \n",
      "     199       3481.62    0.00628748       4666.73           1           1      230   \n",
      "    Iter      log prob        ||dx||      ||grad||       alpha      alpha0  # evals  Notes \n",
      "     299       3490.19     0.0016445        2555.2      0.8846      0.8846      338   \n",
      "    Iter      log prob        ||dx||      ||grad||       alpha      alpha0  # evals  Notes \n",
      "     399       3503.02   0.000991069       3702.99           1           1      448   \n",
      "    Iter      log prob        ||dx||      ||grad||       alpha      alpha0  # evals  Notes \n",
      "     499       3507.37    0.00031717       1582.29           1           1      559   \n",
      "    Iter      log prob        ||dx||      ||grad||       alpha      alpha0  # evals  Notes \n",
      "     599       3509.23   2.69837e-05       308.224           1           1      665   \n",
      "    Iter      log prob        ||dx||      ||grad||       alpha      alpha0  # evals  Notes \n",
      "     699       3510.52   6.47901e-05       556.272      0.9137      0.9137      778   \n",
      "    Iter      log prob        ||dx||      ||grad||       alpha      alpha0  # evals  Notes \n",
      "     799       3511.34   0.000595367       2676.87     0.06191           1      891   \n",
      "    Iter      log prob        ||dx||      ||grad||       alpha      alpha0  # evals  Notes \n",
      "     899       3511.85   1.81092e-05       240.504      0.3513      0.3513     1001   \n",
      "    Iter      log prob        ||dx||      ||grad||       alpha      alpha0  # evals  Notes \n",
      "     999       3512.14   3.19541e-05       280.688           1           1     1112   \n",
      "    Iter      log prob        ||dx||      ||grad||       alpha      alpha0  # evals  Notes \n",
      "    1099       3512.28   7.09377e-05       343.522           1           1     1221   \n",
      "    Iter      log prob        ||dx||      ||grad||       alpha      alpha0  # evals  Notes \n",
      "    1199       3512.98    0.00142086       2066.52           1           1     1335   \n",
      "    Iter      log prob        ||dx||      ||grad||       alpha      alpha0  # evals  Notes \n",
      "    1299       3513.35   0.000331223       1501.81           1           1     1442   \n",
      "    Iter      log prob        ||dx||      ||grad||       alpha      alpha0  # evals  Notes \n",
      "    1313       3513.41   1.45654e-06       160.511    4.79e-09       0.001     1516  LS failed, Hessian reset \n",
      "    1399       3513.52   0.000744925       955.323           1           1     1619   \n",
      "    Iter      log prob        ||dx||      ||grad||       alpha      alpha0  # evals  Notes \n",
      "    1499       3513.73   8.04355e-05       453.677      0.9837      0.9837     1729   \n",
      "    Iter      log prob        ||dx||      ||grad||       alpha      alpha0  # evals  Notes \n",
      "    1599       3514.13   0.000396902        306.27           1           1     1841   \n",
      "    Iter      log prob        ||dx||      ||grad||       alpha      alpha0  # evals  Notes \n",
      "    1699       3514.51   0.000765833       1109.25           1           1     1951   \n",
      "    Iter      log prob        ||dx||      ||grad||       alpha      alpha0  # evals  Notes \n",
      "    1799       3514.68   0.000235217       978.122           1           1     2062   \n",
      "    Iter      log prob        ||dx||      ||grad||       alpha      alpha0  # evals  Notes \n",
      "    1899       3514.84   0.000162033       247.098           1           1     2166   \n",
      "    Iter      log prob        ||dx||      ||grad||       alpha      alpha0  # evals  Notes \n",
      "    1999       3515.01   6.31984e-05       283.973           1           1     2277   \n",
      "    Iter      log prob        ||dx||      ||grad||       alpha      alpha0  # evals  Notes \n",
      "    2099       3515.29   6.34249e-05       413.728       3.847      0.3847     2397   \n",
      "    Iter      log prob        ||dx||      ||grad||       alpha      alpha0  # evals  Notes \n",
      "    2199       3515.59   4.42085e-05       448.957           1           1     2515   \n",
      "    Iter      log prob        ||dx||      ||grad||       alpha      alpha0  # evals  Notes \n",
      "    2299       3515.65   2.52866e-05       192.207      0.7342      0.7342     2634   \n",
      "    Iter      log prob        ||dx||      ||grad||       alpha      alpha0  # evals  Notes \n",
      "    2399       3515.71   1.56653e-05       389.572      0.5201      0.5201     2747   \n",
      "    Iter      log prob        ||dx||      ||grad||       alpha      alpha0  # evals  Notes \n",
      "    2499       3515.78   0.000301755       199.942           1           1     2861   \n",
      "    Iter      log prob        ||dx||      ||grad||       alpha      alpha0  # evals  Notes \n",
      "    2527       3516.28    1.5339e-05       1431.94   1.827e-08       0.001     2945  LS failed, Hessian reset \n",
      "    2599       3516.53   0.000148074       346.761           1           1     3027   \n",
      "    Iter      log prob        ||dx||      ||grad||       alpha      alpha0  # evals  Notes \n",
      "    2699        3516.6   0.000145824       274.205           1           1     3154   \n",
      "    Iter      log prob        ||dx||      ||grad||       alpha      alpha0  # evals  Notes \n",
      "    2727       3516.63   4.22134e-06       327.931   1.529e-08       0.001     3230  LS failed, Hessian reset \n",
      "    2799       3516.66   6.38325e-05       115.386           1           1     3318   \n",
      "    Iter      log prob        ||dx||      ||grad||       alpha      alpha0  # evals  Notes \n",
      "    2878       3516.67   1.14243e-06       88.9144   1.354e-08       0.001     3462  LS failed, Hessian reset \n",
      "    2886       3516.67   2.33483e-07       69.6188      0.3586           1     3472   \n",
      "Optimization terminated normally: \n",
      "  Convergence detected: relative gradient magnitude is below tolerance\n"
     ]
    }
   ],
   "source": [
    "m = Prophet()\n",
    "m.add_regressor('close')\n",
    "m.add_regressor('low')\n",
    "m.add_regressor('high')\n",
    "m.fit(df_train)"
   ]
  },
  {
   "cell_type": "code",
   "execution_count": 47,
   "id": "a6470f6d",
   "metadata": {},
   "outputs": [
    {
     "data": {
      "text/plain": [
       "(770, 1)"
      ]
     },
     "execution_count": 47,
     "metadata": {},
     "output_type": "execute_result"
    }
   ],
   "source": [
    "\n"
   ]
  },
  {
   "cell_type": "code",
   "execution_count": 48,
   "id": "fff959de",
   "metadata": {},
   "outputs": [
    {
     "data": {
      "text/plain": [
       "(680, 5)"
      ]
     },
     "execution_count": 48,
     "metadata": {},
     "output_type": "execute_result"
    }
   ],
   "source": [
    "df.shape"
   ]
  },
  {
   "cell_type": "code",
   "execution_count": 68,
   "id": "2e14809c",
   "metadata": {},
   "outputs": [
    {
     "name": "stderr",
     "output_type": "stream",
     "text": [
      "/Users/ps306w/venvs/seeking_sigma/lib/python3.9/site-packages/prophet/forecaster.py:896: FutureWarning: The frame.append method is deprecated and will be removed from pandas in a future version. Use pandas.concat instead.\n",
      "  components = components.append(new_comp)\n",
      "/Users/ps306w/venvs/seeking_sigma/lib/python3.9/site-packages/prophet/forecaster.py:896: FutureWarning: The frame.append method is deprecated and will be removed from pandas in a future version. Use pandas.concat instead.\n",
      "  components = components.append(new_comp)\n"
     ]
    },
    {
     "data": {
      "text/html": [
       "<div>\n",
       "<style scoped>\n",
       "    .dataframe tbody tr th:only-of-type {\n",
       "        vertical-align: middle;\n",
       "    }\n",
       "\n",
       "    .dataframe tbody tr th {\n",
       "        vertical-align: top;\n",
       "    }\n",
       "\n",
       "    .dataframe thead th {\n",
       "        text-align: right;\n",
       "    }\n",
       "</style>\n",
       "<table border=\"1\" class=\"dataframe\">\n",
       "  <thead>\n",
       "    <tr style=\"text-align: right;\">\n",
       "      <th></th>\n",
       "      <th>ds</th>\n",
       "      <th>yhat</th>\n",
       "      <th>yhat_lower</th>\n",
       "      <th>yhat_upper</th>\n",
       "    </tr>\n",
       "  </thead>\n",
       "  <tbody>\n",
       "    <tr>\n",
       "      <th>67</th>\n",
       "      <td>2019-12-20</td>\n",
       "      <td>157.775827</td>\n",
       "      <td>157.140225</td>\n",
       "      <td>158.390792</td>\n",
       "    </tr>\n",
       "    <tr>\n",
       "      <th>68</th>\n",
       "      <td>2019-12-23</td>\n",
       "      <td>158.151451</td>\n",
       "      <td>157.522300</td>\n",
       "      <td>158.778938</td>\n",
       "    </tr>\n",
       "    <tr>\n",
       "      <th>69</th>\n",
       "      <td>2019-12-24</td>\n",
       "      <td>157.731377</td>\n",
       "      <td>157.093918</td>\n",
       "      <td>158.401616</td>\n",
       "    </tr>\n",
       "    <tr>\n",
       "      <th>70</th>\n",
       "      <td>2019-12-26</td>\n",
       "      <td>157.940181</td>\n",
       "      <td>157.337379</td>\n",
       "      <td>158.521092</td>\n",
       "    </tr>\n",
       "    <tr>\n",
       "      <th>71</th>\n",
       "      <td>2019-12-27</td>\n",
       "      <td>159.124234</td>\n",
       "      <td>158.478431</td>\n",
       "      <td>159.732946</td>\n",
       "    </tr>\n",
       "  </tbody>\n",
       "</table>\n",
       "</div>"
      ],
      "text/plain": [
       "           ds        yhat  yhat_lower  yhat_upper\n",
       "67 2019-12-20  157.775827  157.140225  158.390792\n",
       "68 2019-12-23  158.151451  157.522300  158.778938\n",
       "69 2019-12-24  157.731377  157.093918  158.401616\n",
       "70 2019-12-26  157.940181  157.337379  158.521092\n",
       "71 2019-12-27  159.124234  158.478431  159.732946"
      ]
     },
     "execution_count": 68,
     "metadata": {},
     "output_type": "execute_result"
    }
   ],
   "source": [
    "forecast = m.predict(df_test.drop(columns=\"y\"))\n",
    "forecast[['ds', 'yhat', 'yhat_lower', 'yhat_upper']].tail()"
   ]
  },
  {
   "cell_type": "code",
   "execution_count": 56,
   "id": "30edb3f2",
   "metadata": {},
   "outputs": [
    {
     "data": {
      "text/plain": [
       "(72, 31)"
      ]
     },
     "execution_count": 56,
     "metadata": {},
     "output_type": "execute_result"
    }
   ],
   "source": [
    "forecast.shape"
   ]
  },
  {
   "cell_type": "code",
   "execution_count": 57,
   "id": "c93fca7b",
   "metadata": {},
   "outputs": [
    {
     "data": {
      "image/png": "[encoded data removed]",
      "text/plain": [
       "<Figure size 720x432 with 1 Axes>"
      ]
     },
     "metadata": {},
     "output_type": "display_data"
    }
   ],
   "source": [
    "fig1 = m.plot(forecast)"
   ]
  },
  {
   "cell_type": "code",
   "execution_count": 58,
   "id": "abd9a283",
   "metadata": {},
   "outputs": [
    {
     "data": {
      "text/plain": [
       "[<matplotlib.lines.Line2D at 0x123313610>]"
      ]
     },
     "execution_count": 58,
     "metadata": {},
     "output_type": "execute_result"
    },
    {
     "data": {
      "image/png": "[encoded data removed]",
      "text/plain": [
       "<Figure size 864x576 with 1 Axes>"
      ]
     },
     "metadata": {
      "needs_background": "light"
     },
     "output_type": "display_data"
    }
   ],
   "source": [
    "import matplotlib.pyplot as plt\n",
    "plt.figure(figsize=(12, 8))\n",
    "plt.plot(data_yh['Open'][0:680], color='r')\n",
    "plt.plot(forecast['yhat'][0:680])\n"
   ]
  },
  {
   "cell_type": "code",
   "execution_count": 69,
   "id": "eb07a0b7",
   "metadata": {},
   "outputs": [
    {
     "data": {
      "text/plain": [
       "[<matplotlib.lines.Line2D at 0x12409af70>]"
      ]
     },
     "execution_count": 69,
     "metadata": {},
     "output_type": "execute_result"
    },
    {
     "data": {
      "image/png": "[encoded data removed]",
      "text/plain": [
       "<Figure size 864x576 with 1 Axes>"
      ]
     },
     "metadata": {
      "needs_background": "light"
     },
     "output_type": "display_data"
    }
   ],
   "source": [
    "plt.figure(figsize=(12, 8))\n",
    "plt.plot(df_test['y'], color='r')\n",
    "plt.plot(forecast['yhat'])\n",
    "plt.plot(forecast['yhat_lower'])\n",
    "plt.plot(forecast['yhat_upper'])"
   ]
  },
  {
   "cell_type": "code",
   "execution_count": 62,
   "id": "da467e31",
   "metadata": {},
   "outputs": [
    {
     "data": {
      "text/html": [
       "<div>\n",
       "<style scoped>\n",
       "    .dataframe tbody tr th:only-of-type {\n",
       "        vertical-align: middle;\n",
       "    }\n",
       "\n",
       "    .dataframe tbody tr th {\n",
       "        vertical-align: top;\n",
       "    }\n",
       "\n",
       "    .dataframe thead th {\n",
       "        text-align: right;\n",
       "    }\n",
       "</style>\n",
       "<table border=\"1\" class=\"dataframe\">\n",
       "  <thead>\n",
       "    <tr style=\"text-align: right;\">\n",
       "      <th></th>\n",
       "      <th>ds</th>\n",
       "      <th>trend</th>\n",
       "      <th>yhat_lower</th>\n",
       "      <th>yhat_upper</th>\n",
       "      <th>trend_lower</th>\n",
       "      <th>trend_upper</th>\n",
       "      <th>additive_terms</th>\n",
       "      <th>additive_terms_lower</th>\n",
       "      <th>additive_terms_upper</th>\n",
       "      <th>close</th>\n",
       "      <th>...</th>\n",
       "      <th>weekly</th>\n",
       "      <th>weekly_lower</th>\n",
       "      <th>weekly_upper</th>\n",
       "      <th>yearly</th>\n",
       "      <th>yearly_lower</th>\n",
       "      <th>yearly_upper</th>\n",
       "      <th>multiplicative_terms</th>\n",
       "      <th>multiplicative_terms_lower</th>\n",
       "      <th>multiplicative_terms_upper</th>\n",
       "      <th>yhat</th>\n",
       "    </tr>\n",
       "  </thead>\n",
       "  <tbody>\n",
       "    <tr>\n",
       "      <th>0</th>\n",
       "      <td>2019-09-17</td>\n",
       "      <td>91.976772</td>\n",
       "      <td>136.591357</td>\n",
       "      <td>137.802840</td>\n",
       "      <td>91.976772</td>\n",
       "      <td>91.976772</td>\n",
       "      <td>45.204672</td>\n",
       "      <td>45.204672</td>\n",
       "      <td>45.204672</td>\n",
       "      <td>-27.050514</td>\n",
       "      <td>...</td>\n",
       "      <td>5.529657</td>\n",
       "      <td>5.529657</td>\n",
       "      <td>5.529657</td>\n",
       "      <td>0.139604</td>\n",
       "      <td>0.139604</td>\n",
       "      <td>0.139604</td>\n",
       "      <td>0.0</td>\n",
       "      <td>0.0</td>\n",
       "      <td>0.0</td>\n",
       "      <td>137.181445</td>\n",
       "    </tr>\n",
       "    <tr>\n",
       "      <th>1</th>\n",
       "      <td>2019-09-18</td>\n",
       "      <td>91.980510</td>\n",
       "      <td>136.917997</td>\n",
       "      <td>138.135940</td>\n",
       "      <td>91.980510</td>\n",
       "      <td>91.980510</td>\n",
       "      <td>45.535102</td>\n",
       "      <td>45.535102</td>\n",
       "      <td>45.535102</td>\n",
       "      <td>-27.794669</td>\n",
       "      <td>...</td>\n",
       "      <td>5.474905</td>\n",
       "      <td>5.474905</td>\n",
       "      <td>5.474905</td>\n",
       "      <td>0.144431</td>\n",
       "      <td>0.144431</td>\n",
       "      <td>0.144431</td>\n",
       "      <td>0.0</td>\n",
       "      <td>0.0</td>\n",
       "      <td>0.0</td>\n",
       "      <td>137.515611</td>\n",
       "    </tr>\n",
       "    <tr>\n",
       "      <th>2</th>\n",
       "      <td>2019-09-19</td>\n",
       "      <td>91.984247</td>\n",
       "      <td>141.149322</td>\n",
       "      <td>142.389527</td>\n",
       "      <td>91.984247</td>\n",
       "      <td>91.984247</td>\n",
       "      <td>49.780811</td>\n",
       "      <td>49.780811</td>\n",
       "      <td>49.780811</td>\n",
       "      <td>-29.473951</td>\n",
       "      <td>...</td>\n",
       "      <td>5.454510</td>\n",
       "      <td>5.454510</td>\n",
       "      <td>5.454510</td>\n",
       "      <td>0.149562</td>\n",
       "      <td>0.149562</td>\n",
       "      <td>0.149562</td>\n",
       "      <td>0.0</td>\n",
       "      <td>0.0</td>\n",
       "      <td>0.0</td>\n",
       "      <td>141.765057</td>\n",
       "    </tr>\n",
       "    <tr>\n",
       "      <th>3</th>\n",
       "      <td>2019-09-20</td>\n",
       "      <td>91.987984</td>\n",
       "      <td>140.303876</td>\n",
       "      <td>141.560107</td>\n",
       "      <td>91.987984</td>\n",
       "      <td>91.987984</td>\n",
       "      <td>48.922642</td>\n",
       "      <td>48.922642</td>\n",
       "      <td>48.922642</td>\n",
       "      <td>-28.400526</td>\n",
       "      <td>...</td>\n",
       "      <td>5.489766</td>\n",
       "      <td>5.489766</td>\n",
       "      <td>5.489766</td>\n",
       "      <td>0.154874</td>\n",
       "      <td>0.154874</td>\n",
       "      <td>0.154874</td>\n",
       "      <td>0.0</td>\n",
       "      <td>0.0</td>\n",
       "      <td>0.0</td>\n",
       "      <td>140.910626</td>\n",
       "    </tr>\n",
       "    <tr>\n",
       "      <th>4</th>\n",
       "      <td>2019-09-23</td>\n",
       "      <td>91.999196</td>\n",
       "      <td>138.820129</td>\n",
       "      <td>140.032064</td>\n",
       "      <td>91.999196</td>\n",
       "      <td>91.999196</td>\n",
       "      <td>47.421319</td>\n",
       "      <td>47.421319</td>\n",
       "      <td>47.421319</td>\n",
       "      <td>-28.202961</td>\n",
       "      <td>...</td>\n",
       "      <td>5.486743</td>\n",
       "      <td>5.486743</td>\n",
       "      <td>5.486743</td>\n",
       "      <td>0.170374</td>\n",
       "      <td>0.170374</td>\n",
       "      <td>0.170374</td>\n",
       "      <td>0.0</td>\n",
       "      <td>0.0</td>\n",
       "      <td>0.0</td>\n",
       "      <td>139.420515</td>\n",
       "    </tr>\n",
       "    <tr>\n",
       "      <th>...</th>\n",
       "      <td>...</td>\n",
       "      <td>...</td>\n",
       "      <td>...</td>\n",
       "      <td>...</td>\n",
       "      <td>...</td>\n",
       "      <td>...</td>\n",
       "      <td>...</td>\n",
       "      <td>...</td>\n",
       "      <td>...</td>\n",
       "      <td>...</td>\n",
       "      <td>...</td>\n",
       "      <td>...</td>\n",
       "      <td>...</td>\n",
       "      <td>...</td>\n",
       "      <td>...</td>\n",
       "      <td>...</td>\n",
       "      <td>...</td>\n",
       "      <td>...</td>\n",
       "      <td>...</td>\n",
       "      <td>...</td>\n",
       "      <td>...</td>\n",
       "    </tr>\n",
       "    <tr>\n",
       "      <th>67</th>\n",
       "      <td>2019-12-20</td>\n",
       "      <td>92.328085</td>\n",
       "      <td>157.175035</td>\n",
       "      <td>158.388182</td>\n",
       "      <td>92.246221</td>\n",
       "      <td>92.410244</td>\n",
       "      <td>65.447742</td>\n",
       "      <td>65.447742</td>\n",
       "      <td>65.447742</td>\n",
       "      <td>-40.234514</td>\n",
       "      <td>...</td>\n",
       "      <td>5.489766</td>\n",
       "      <td>5.489766</td>\n",
       "      <td>5.489766</td>\n",
       "      <td>0.086408</td>\n",
       "      <td>0.086408</td>\n",
       "      <td>0.086408</td>\n",
       "      <td>0.0</td>\n",
       "      <td>0.0</td>\n",
       "      <td>0.0</td>\n",
       "      <td>157.775827</td>\n",
       "    </tr>\n",
       "    <tr>\n",
       "      <th>68</th>\n",
       "      <td>2019-12-23</td>\n",
       "      <td>92.339297</td>\n",
       "      <td>157.529977</td>\n",
       "      <td>158.819817</td>\n",
       "      <td>92.252613</td>\n",
       "      <td>92.425041</td>\n",
       "      <td>65.812154</td>\n",
       "      <td>65.812154</td>\n",
       "      <td>65.812154</td>\n",
       "      <td>-40.234514</td>\n",
       "      <td>...</td>\n",
       "      <td>5.486743</td>\n",
       "      <td>5.486743</td>\n",
       "      <td>5.486743</td>\n",
       "      <td>0.085270</td>\n",
       "      <td>0.085270</td>\n",
       "      <td>0.085270</td>\n",
       "      <td>0.0</td>\n",
       "      <td>0.0</td>\n",
       "      <td>0.0</td>\n",
       "      <td>158.151451</td>\n",
       "    </tr>\n",
       "    <tr>\n",
       "      <th>69</th>\n",
       "      <td>2019-12-24</td>\n",
       "      <td>92.343035</td>\n",
       "      <td>157.123909</td>\n",
       "      <td>158.375110</td>\n",
       "      <td>92.254573</td>\n",
       "      <td>92.429454</td>\n",
       "      <td>65.388343</td>\n",
       "      <td>65.388343</td>\n",
       "      <td>65.388343</td>\n",
       "      <td>-40.214759</td>\n",
       "      <td>...</td>\n",
       "      <td>5.529657</td>\n",
       "      <td>5.529657</td>\n",
       "      <td>5.529657</td>\n",
       "      <td>0.082210</td>\n",
       "      <td>0.082210</td>\n",
       "      <td>0.082210</td>\n",
       "      <td>0.0</td>\n",
       "      <td>0.0</td>\n",
       "      <td>0.0</td>\n",
       "      <td>157.731377</td>\n",
       "    </tr>\n",
       "    <tr>\n",
       "      <th>70</th>\n",
       "      <td>2019-12-26</td>\n",
       "      <td>92.350509</td>\n",
       "      <td>157.335203</td>\n",
       "      <td>158.619273</td>\n",
       "      <td>92.258767</td>\n",
       "      <td>92.439378</td>\n",
       "      <td>65.589672</td>\n",
       "      <td>65.589672</td>\n",
       "      <td>65.589672</td>\n",
       "      <td>-41.064272</td>\n",
       "      <td>...</td>\n",
       "      <td>5.454510</td>\n",
       "      <td>5.454510</td>\n",
       "      <td>5.454510</td>\n",
       "      <td>0.072775</td>\n",
       "      <td>0.072775</td>\n",
       "      <td>0.072775</td>\n",
       "      <td>0.0</td>\n",
       "      <td>0.0</td>\n",
       "      <td>0.0</td>\n",
       "      <td>157.940181</td>\n",
       "    </tr>\n",
       "    <tr>\n",
       "      <th>71</th>\n",
       "      <td>2019-12-27</td>\n",
       "      <td>92.354247</td>\n",
       "      <td>158.521175</td>\n",
       "      <td>159.789035</td>\n",
       "      <td>92.260674</td>\n",
       "      <td>92.445162</td>\n",
       "      <td>66.769987</td>\n",
       "      <td>66.769987</td>\n",
       "      <td>66.769987</td>\n",
       "      <td>-41.255255</td>\n",
       "      <td>...</td>\n",
       "      <td>5.489766</td>\n",
       "      <td>5.489766</td>\n",
       "      <td>5.489766</td>\n",
       "      <td>0.066731</td>\n",
       "      <td>0.066731</td>\n",
       "      <td>0.066731</td>\n",
       "      <td>0.0</td>\n",
       "      <td>0.0</td>\n",
       "      <td>0.0</td>\n",
       "      <td>159.124234</td>\n",
       "    </tr>\n",
       "  </tbody>\n",
       "</table>\n",
       "<p>72 rows × 31 columns</p>\n",
       "</div>"
      ],
      "text/plain": [
       "           ds      trend  yhat_lower  yhat_upper  trend_lower  trend_upper  \\\n",
       "0  2019-09-17  91.976772  136.591357  137.802840    91.976772    91.976772   \n",
       "1  2019-09-18  91.980510  136.917997  138.135940    91.980510    91.980510   \n",
       "2  2019-09-19  91.984247  141.149322  142.389527    91.984247    91.984247   \n",
       "3  2019-09-20  91.987984  140.303876  141.560107    91.987984    91.987984   \n",
       "4  2019-09-23  91.999196  138.820129  140.032064    91.999196    91.999196   \n",
       "..        ...        ...         ...         ...          ...          ...   \n",
       "67 2019-12-20  92.328085  157.175035  158.388182    92.246221    92.410244   \n",
       "68 2019-12-23  92.339297  157.529977  158.819817    92.252613    92.425041   \n",
       "69 2019-12-24  92.343035  157.123909  158.375110    92.254573    92.429454   \n",
       "70 2019-12-26  92.350509  157.335203  158.619273    92.258767    92.439378   \n",
       "71 2019-12-27  92.354247  158.521175  159.789035    92.260674    92.445162   \n",
       "\n",
       "    additive_terms  additive_terms_lower  additive_terms_upper      close  \\\n",
       "0        45.204672             45.204672             45.204672 -27.050514   \n",
       "1        45.535102             45.535102             45.535102 -27.794669   \n",
       "2        49.780811             49.780811             49.780811 -29.473951   \n",
       "3        48.922642             48.922642             48.922642 -28.400526   \n",
       "4        47.421319             47.421319             47.421319 -28.202961   \n",
       "..             ...                   ...                   ...        ...   \n",
       "67       65.447742             65.447742             65.447742 -40.234514   \n",
       "68       65.812154             65.812154             65.812154 -40.234514   \n",
       "69       65.388343             65.388343             65.388343 -40.214759   \n",
       "70       65.589672             65.589672             65.589672 -41.064272   \n",
       "71       66.769987             66.769987             66.769987 -41.255255   \n",
       "\n",
       "    ...    weekly  weekly_lower  weekly_upper    yearly  yearly_lower  \\\n",
       "0   ...  5.529657      5.529657      5.529657  0.139604      0.139604   \n",
       "1   ...  5.474905      5.474905      5.474905  0.144431      0.144431   \n",
       "2   ...  5.454510      5.454510      5.454510  0.149562      0.149562   \n",
       "3   ...  5.489766      5.489766      5.489766  0.154874      0.154874   \n",
       "4   ...  5.486743      5.486743      5.486743  0.170374      0.170374   \n",
       "..  ...       ...           ...           ...       ...           ...   \n",
       "67  ...  5.489766      5.489766      5.489766  0.086408      0.086408   \n",
       "68  ...  5.486743      5.486743      5.486743  0.085270      0.085270   \n",
       "69  ...  5.529657      5.529657      5.529657  0.082210      0.082210   \n",
       "70  ...  5.454510      5.454510      5.454510  0.072775      0.072775   \n",
       "71  ...  5.489766      5.489766      5.489766  0.066731      0.066731   \n",
       "\n",
       "    yearly_upper  multiplicative_terms  multiplicative_terms_lower  \\\n",
       "0       0.139604                   0.0                         0.0   \n",
       "1       0.144431                   0.0                         0.0   \n",
       "2       0.149562                   0.0                         0.0   \n",
       "3       0.154874                   0.0                         0.0   \n",
       "4       0.170374                   0.0                         0.0   \n",
       "..           ...                   ...                         ...   \n",
       "67      0.086408                   0.0                         0.0   \n",
       "68      0.085270                   0.0                         0.0   \n",
       "69      0.082210                   0.0                         0.0   \n",
       "70      0.072775                   0.0                         0.0   \n",
       "71      0.066731                   0.0                         0.0   \n",
       "\n",
       "    multiplicative_terms_upper        yhat  \n",
       "0                          0.0  137.181445  \n",
       "1                          0.0  137.515611  \n",
       "2                          0.0  141.765057  \n",
       "3                          0.0  140.910626  \n",
       "4                          0.0  139.420515  \n",
       "..                         ...         ...  \n",
       "67                         0.0  157.775827  \n",
       "68                         0.0  158.151451  \n",
       "69                         0.0  157.731377  \n",
       "70                         0.0  157.940181  \n",
       "71                         0.0  159.124234  \n",
       "\n",
       "[72 rows x 31 columns]"
      ]
     },
     "execution_count": 62,
     "metadata": {},
     "output_type": "execute_result"
    }
   ],
   "source": [
    "forecast"
   ]
  },
  {
   "cell_type": "code",
   "execution_count": 66,
   "id": "0a407134",
   "metadata": {},
   "outputs": [],
   "source": [
    "df_test=df_test.reset_index()"
   ]
  },
  {
   "cell_type": "code",
   "execution_count": null,
   "id": "87811df6",
   "metadata": {},
   "outputs": [],
   "source": []
  }
 ],
 "metadata": {
  "kernelspec": {
   "display_name": "Python 3 (ipykernel)",
   "language": "python",
   "name": "python3"
  },
  "language_info": {
   "codemirror_mode": {
    "name": "ipython",
    "version": 3
   },
   "file_extension": ".py",
   "mimetype": "text/x-python",
   "name": "python",
   "nbconvert_exporter": "python",
   "pygments_lexer": "ipython3",
   "version": "3.9.10"
  }
 },
 "nbformat": 4,
 "nbformat_minor": 5
}
