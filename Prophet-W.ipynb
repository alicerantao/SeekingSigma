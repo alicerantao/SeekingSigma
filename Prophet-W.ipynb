{
 "cells": [
  {
   "cell_type": "code",
   "execution_count": 1,
   "id": "d0eab606",
   "metadata": {},
   "outputs": [],
   "source": [
    "import pandas as pd\n",
    "import datetime as dt\n",
    "from datetime import timedelta, date\n",
    "from datetime import datetime"
   ]
  },
  {
   "cell_type": "code",
   "execution_count": 2,
   "id": "b19a9aa8",
   "metadata": {},
   "outputs": [
    {
     "name": "stderr",
     "output_type": "stream",
     "text": [
      "Importing plotly failed. Interactive plots will not work.\n"
     ]
    }
   ],
   "source": [
    "import pandas as pd\n",
    "from prophet import Prophet"
   ]
  },
  {
   "cell_type": "code",
   "execution_count": 19,
   "id": "24cc6dad",
   "metadata": {},
   "outputs": [
    {
     "data": {
      "text/html": [
       "<div>\n",
       "<style scoped>\n",
       "    .dataframe tbody tr th:only-of-type {\n",
       "        vertical-align: middle;\n",
       "    }\n",
       "\n",
       "    .dataframe tbody tr th {\n",
       "        vertical-align: top;\n",
       "    }\n",
       "\n",
       "    .dataframe thead th {\n",
       "        text-align: right;\n",
       "    }\n",
       "</style>\n",
       "<table border=\"1\" class=\"dataframe\">\n",
       "  <thead>\n",
       "    <tr style=\"text-align: right;\">\n",
       "      <th></th>\n",
       "      <th>Date</th>\n",
       "      <th>Open</th>\n",
       "      <th>High</th>\n",
       "      <th>Low</th>\n",
       "      <th>Close</th>\n",
       "      <th>Adj Close</th>\n",
       "      <th>Volume</th>\n",
       "    </tr>\n",
       "  </thead>\n",
       "  <tbody>\n",
       "    <tr>\n",
       "      <th>0</th>\n",
       "      <td>2019-01-02</td>\n",
       "      <td>88.339996</td>\n",
       "      <td>92.110001</td>\n",
       "      <td>87.650002</td>\n",
       "      <td>90.470001</td>\n",
       "      <td>90.470001</td>\n",
       "      <td>1286000</td>\n",
       "    </tr>\n",
       "    <tr>\n",
       "      <th>1</th>\n",
       "      <td>2019-01-03</td>\n",
       "      <td>88.980003</td>\n",
       "      <td>89.910004</td>\n",
       "      <td>84.269997</td>\n",
       "      <td>84.580002</td>\n",
       "      <td>84.580002</td>\n",
       "      <td>2054000</td>\n",
       "    </tr>\n",
       "    <tr>\n",
       "      <th>2</th>\n",
       "      <td>2019-01-04</td>\n",
       "      <td>87.309998</td>\n",
       "      <td>90.900002</td>\n",
       "      <td>86.660004</td>\n",
       "      <td>90.059998</td>\n",
       "      <td>90.059998</td>\n",
       "      <td>2165400</td>\n",
       "    </tr>\n",
       "    <tr>\n",
       "      <th>3</th>\n",
       "      <td>2019-01-07</td>\n",
       "      <td>90.959999</td>\n",
       "      <td>98.360001</td>\n",
       "      <td>90.379997</td>\n",
       "      <td>95.550003</td>\n",
       "      <td>95.550003</td>\n",
       "      <td>1937800</td>\n",
       "    </tr>\n",
       "    <tr>\n",
       "      <th>4</th>\n",
       "      <td>2019-01-08</td>\n",
       "      <td>97.820000</td>\n",
       "      <td>98.820000</td>\n",
       "      <td>94.169998</td>\n",
       "      <td>96.760002</td>\n",
       "      <td>96.760002</td>\n",
       "      <td>1447600</td>\n",
       "    </tr>\n",
       "    <tr>\n",
       "      <th>...</th>\n",
       "      <td>...</td>\n",
       "      <td>...</td>\n",
       "      <td>...</td>\n",
       "      <td>...</td>\n",
       "      <td>...</td>\n",
       "      <td>...</td>\n",
       "      <td>...</td>\n",
       "    </tr>\n",
       "    <tr>\n",
       "      <th>452</th>\n",
       "      <td>2020-10-16</td>\n",
       "      <td>300.000000</td>\n",
       "      <td>304.225006</td>\n",
       "      <td>295.640015</td>\n",
       "      <td>297.079987</td>\n",
       "      <td>297.079987</td>\n",
       "      <td>1543200</td>\n",
       "    </tr>\n",
       "    <tr>\n",
       "      <th>453</th>\n",
       "      <td>2020-10-19</td>\n",
       "      <td>300.250000</td>\n",
       "      <td>308.769989</td>\n",
       "      <td>297.570007</td>\n",
       "      <td>299.950012</td>\n",
       "      <td>299.950012</td>\n",
       "      <td>2036900</td>\n",
       "    </tr>\n",
       "    <tr>\n",
       "      <th>454</th>\n",
       "      <td>2020-10-20</td>\n",
       "      <td>300.950012</td>\n",
       "      <td>304.980011</td>\n",
       "      <td>293.239990</td>\n",
       "      <td>294.540009</td>\n",
       "      <td>294.540009</td>\n",
       "      <td>1732500</td>\n",
       "    </tr>\n",
       "    <tr>\n",
       "      <th>455</th>\n",
       "      <td>2020-10-21</td>\n",
       "      <td>297.809998</td>\n",
       "      <td>297.880005</td>\n",
       "      <td>270.230011</td>\n",
       "      <td>270.269989</td>\n",
       "      <td>270.269989</td>\n",
       "      <td>2306400</td>\n",
       "    </tr>\n",
       "    <tr>\n",
       "      <th>456</th>\n",
       "      <td>2020-10-22</td>\n",
       "      <td>270.000000</td>\n",
       "      <td>274.459991</td>\n",
       "      <td>261.920013</td>\n",
       "      <td>265.869995</td>\n",
       "      <td>265.869995</td>\n",
       "      <td>2728900</td>\n",
       "    </tr>\n",
       "  </tbody>\n",
       "</table>\n",
       "<p>457 rows × 7 columns</p>\n",
       "</div>"
      ],
      "text/plain": [
       "           Date        Open        High         Low       Close   Adj Close  \\\n",
       "0    2019-01-02   88.339996   92.110001   87.650002   90.470001   90.470001   \n",
       "1    2019-01-03   88.980003   89.910004   84.269997   84.580002   84.580002   \n",
       "2    2019-01-04   87.309998   90.900002   86.660004   90.059998   90.059998   \n",
       "3    2019-01-07   90.959999   98.360001   90.379997   95.550003   95.550003   \n",
       "4    2019-01-08   97.820000   98.820000   94.169998   96.760002   96.760002   \n",
       "..          ...         ...         ...         ...         ...         ...   \n",
       "452  2020-10-16  300.000000  304.225006  295.640015  297.079987  297.079987   \n",
       "453  2020-10-19  300.250000  308.769989  297.570007  299.950012  299.950012   \n",
       "454  2020-10-20  300.950012  304.980011  293.239990  294.540009  294.540009   \n",
       "455  2020-10-21  297.809998  297.880005  270.230011  270.269989  270.269989   \n",
       "456  2020-10-22  270.000000  274.459991  261.920013  265.869995  265.869995   \n",
       "\n",
       "      Volume  \n",
       "0    1286000  \n",
       "1    2054000  \n",
       "2    2165400  \n",
       "3    1937800  \n",
       "4    1447600  \n",
       "..       ...  \n",
       "452  1543200  \n",
       "453  2036900  \n",
       "454  1732500  \n",
       "455  2306400  \n",
       "456  2728900  \n",
       "\n",
       "[457 rows x 7 columns]"
      ]
     },
     "execution_count": 19,
     "metadata": {},
     "output_type": "execute_result"
    }
   ],
   "source": [
    "data_yh"
   ]
  },
  {
   "cell_type": "code",
   "execution_count": 3,
   "id": "5b7b9e51",
   "metadata": {},
   "outputs": [],
   "source": [
    "data_yh = pd.read_csv(\"raw_data/W_2020-10-23.csv\")"
   ]
  },
  {
   "cell_type": "code",
   "execution_count": 4,
   "id": "ee6a4322",
   "metadata": {},
   "outputs": [],
   "source": [
    "df = data_yh[['Date', 'Open', 'Close', 'Low', 'High']]"
   ]
  },
  {
   "cell_type": "code",
   "execution_count": 5,
   "id": "f076c524",
   "metadata": {},
   "outputs": [],
   "source": [
    "df=df.rename(columns={'Date': 'ds', 'Open': 'y', 'Close': 'close', 'Low': 'low', 'High': 'high'})"
   ]
  },
  {
   "cell_type": "code",
   "execution_count": 9,
   "id": "0d8f5bcc",
   "metadata": {},
   "outputs": [
    {
     "data": {
      "text/html": [
       "<div>\n",
       "<style scoped>\n",
       "    .dataframe tbody tr th:only-of-type {\n",
       "        vertical-align: middle;\n",
       "    }\n",
       "\n",
       "    .dataframe tbody tr th {\n",
       "        vertical-align: top;\n",
       "    }\n",
       "\n",
       "    .dataframe thead th {\n",
       "        text-align: right;\n",
       "    }\n",
       "</style>\n",
       "<table border=\"1\" class=\"dataframe\">\n",
       "  <thead>\n",
       "    <tr style=\"text-align: right;\">\n",
       "      <th></th>\n",
       "      <th>ds</th>\n",
       "      <th>y</th>\n",
       "      <th>close</th>\n",
       "      <th>low</th>\n",
       "      <th>high</th>\n",
       "    </tr>\n",
       "  </thead>\n",
       "  <tbody>\n",
       "    <tr>\n",
       "      <th>0</th>\n",
       "      <td>2019-01-02</td>\n",
       "      <td>88.339996</td>\n",
       "      <td>90.470001</td>\n",
       "      <td>87.650002</td>\n",
       "      <td>92.110001</td>\n",
       "    </tr>\n",
       "    <tr>\n",
       "      <th>1</th>\n",
       "      <td>2019-01-03</td>\n",
       "      <td>88.980003</td>\n",
       "      <td>84.580002</td>\n",
       "      <td>84.269997</td>\n",
       "      <td>89.910004</td>\n",
       "    </tr>\n",
       "    <tr>\n",
       "      <th>2</th>\n",
       "      <td>2019-01-04</td>\n",
       "      <td>87.309998</td>\n",
       "      <td>90.059998</td>\n",
       "      <td>86.660004</td>\n",
       "      <td>90.900002</td>\n",
       "    </tr>\n",
       "    <tr>\n",
       "      <th>3</th>\n",
       "      <td>2019-01-07</td>\n",
       "      <td>90.959999</td>\n",
       "      <td>95.550003</td>\n",
       "      <td>90.379997</td>\n",
       "      <td>98.360001</td>\n",
       "    </tr>\n",
       "    <tr>\n",
       "      <th>4</th>\n",
       "      <td>2019-01-08</td>\n",
       "      <td>97.820000</td>\n",
       "      <td>96.760002</td>\n",
       "      <td>94.169998</td>\n",
       "      <td>98.820000</td>\n",
       "    </tr>\n",
       "  </tbody>\n",
       "</table>\n",
       "</div>"
      ],
      "text/plain": [
       "           ds          y      close        low       high\n",
       "0  2019-01-02  88.339996  90.470001  87.650002  92.110001\n",
       "1  2019-01-03  88.980003  84.580002  84.269997  89.910004\n",
       "2  2019-01-04  87.309998  90.059998  86.660004  90.900002\n",
       "3  2019-01-07  90.959999  95.550003  90.379997  98.360001\n",
       "4  2019-01-08  97.820000  96.760002  94.169998  98.820000"
      ]
     },
     "execution_count": 9,
     "metadata": {},
     "output_type": "execute_result"
    }
   ],
   "source": [
    "df.head()"
   ]
  },
  {
   "cell_type": "code",
   "execution_count": 10,
   "id": "a7fcdeed",
   "metadata": {},
   "outputs": [
    {
     "data": {
      "text/plain": [
       "(457, 5)"
      ]
     },
     "execution_count": 10,
     "metadata": {},
     "output_type": "execute_result"
    }
   ],
   "source": [
    "df.shape"
   ]
  },
  {
   "cell_type": "code",
   "execution_count": 11,
   "id": "22ea190c",
   "metadata": {},
   "outputs": [],
   "source": [
    "df_test = df[400:]\n",
    "df_test = df_test.reset_index()\n",
    "df_train = df[0:400]"
   ]
  },
  {
   "cell_type": "code",
   "execution_count": 12,
   "id": "7fcdd3ad",
   "metadata": {},
   "outputs": [
    {
     "name": "stderr",
     "output_type": "stream",
     "text": [
      "INFO:prophet:Disabling yearly seasonality. Run prophet with yearly_seasonality=True to override this.\n",
      "INFO:prophet:Disabling daily seasonality. Run prophet with daily_seasonality=True to override this.\n",
      "/Users/ps306w/venvs/seeking_sigma/lib/python3.9/site-packages/prophet/forecaster.py:896: FutureWarning: The frame.append method is deprecated and will be removed from pandas in a future version. Use pandas.concat instead.\n",
      "  components = components.append(new_comp)\n"
     ]
    },
    {
     "name": "stdout",
     "output_type": "stream",
     "text": [
      "Initial log joint probability = -21.4936\n"
     ]
    },
    {
     "data": {
      "text/plain": [
       "<prophet.forecaster.Prophet at 0x125f04910>"
      ]
     },
     "execution_count": 12,
     "metadata": {},
     "output_type": "execute_result"
    },
    {
     "name": "stdout",
     "output_type": "stream",
     "text": [
      "    Iter      log prob        ||dx||      ||grad||       alpha      alpha0  # evals  Notes \n",
      "      99        1739.9    0.00711213       2203.85      0.9336      0.9336      115   \n",
      "    Iter      log prob        ||dx||      ||grad||       alpha      alpha0  # evals  Notes \n",
      "     199        1759.7   0.000850176       377.799           1           1      223   \n",
      "    Iter      log prob        ||dx||      ||grad||       alpha      alpha0  # evals  Notes \n",
      "     299       1766.32     0.0020315       678.315           1           1      334   \n",
      "    Iter      log prob        ||dx||      ||grad||       alpha      alpha0  # evals  Notes \n",
      "     399       1768.51   0.000272404       194.103       1.883      0.1883      452   \n",
      "    Iter      log prob        ||dx||      ||grad||       alpha      alpha0  # evals  Notes \n",
      "     499       1769.67   0.000640712       438.246           1           1      574   \n",
      "    Iter      log prob        ||dx||      ||grad||       alpha      alpha0  # evals  Notes \n",
      "     599       1770.22   0.000782787       164.182      0.4298      0.4298      701   \n",
      "    Iter      log prob        ||dx||      ||grad||       alpha      alpha0  # evals  Notes \n",
      "     699       1770.85   2.95936e-05       79.3392       1.582      0.1582      831   \n",
      "    Iter      log prob        ||dx||      ||grad||       alpha      alpha0  # evals  Notes \n",
      "     799       1772.32   0.000844248       717.159      0.4645      0.4645      952   \n",
      "    Iter      log prob        ||dx||      ||grad||       alpha      alpha0  # evals  Notes \n",
      "     808       1772.46   1.22265e-05       145.541   7.512e-08       0.001     1023  LS failed, Hessian reset \n",
      "     899       1773.33    1.7701e-05       67.8987           1           1     1131   \n",
      "    Iter      log prob        ||dx||      ||grad||       alpha      alpha0  # evals  Notes \n",
      "     973       1773.39   3.57844e-06       59.1756   6.103e-08       0.001     1259  LS failed, Hessian reset \n",
      "     999       1773.39   6.38168e-08       78.1525      0.6168      0.6168     1292   \n",
      "    Iter      log prob        ||dx||      ||grad||       alpha      alpha0  # evals  Notes \n",
      "    1047       1773.39   9.77706e-06       139.428   5.433e-08       0.001     1399  LS failed, Hessian reset \n",
      "    1096        1773.4   3.69334e-06       78.8111   3.852e-08       0.001     1502  LS failed, Hessian reset \n",
      "    1099        1773.4   1.33525e-06       63.5109           1           1     1505   \n",
      "    Iter      log prob        ||dx||      ||grad||       alpha      alpha0  # evals  Notes \n",
      "    1113        1773.4   9.57651e-08       59.7651      0.6039      0.6039     1521   \n",
      "Optimization terminated normally: \n",
      "  Convergence detected: relative gradient magnitude is below tolerance\n"
     ]
    }
   ],
   "source": [
    "m = Prophet()\n",
    "m.add_regressor('close')\n",
    "m.add_regressor('low')\n",
    "m.add_regressor('high')\n",
    "m.fit(df_train)"
   ]
  },
  {
   "cell_type": "code",
   "execution_count": 47,
   "id": "ef10bd2c",
   "metadata": {},
   "outputs": [
    {
     "data": {
      "text/plain": [
       "(770, 1)"
      ]
     },
     "execution_count": 47,
     "metadata": {},
     "output_type": "execute_result"
    }
   ],
   "source": [
    "future = m.make_future_dataframe(periods=90)\n",
    "future.tail()\n",
    "future.shape\n"
   ]
  },
  {
   "cell_type": "code",
   "execution_count": 48,
   "id": "15c83d74",
   "metadata": {},
   "outputs": [
    {
     "data": {
      "text/plain": [
       "(680, 5)"
      ]
     },
     "execution_count": 48,
     "metadata": {},
     "output_type": "execute_result"
    }
   ],
   "source": [
    "df.shape"
   ]
  },
  {
   "cell_type": "code",
   "execution_count": 13,
   "id": "a9240609",
   "metadata": {},
   "outputs": [
    {
     "name": "stderr",
     "output_type": "stream",
     "text": [
      "/Users/ps306w/venvs/seeking_sigma/lib/python3.9/site-packages/prophet/forecaster.py:896: FutureWarning: The frame.append method is deprecated and will be removed from pandas in a future version. Use pandas.concat instead.\n",
      "  components = components.append(new_comp)\n",
      "/Users/ps306w/venvs/seeking_sigma/lib/python3.9/site-packages/prophet/forecaster.py:896: FutureWarning: The frame.append method is deprecated and will be removed from pandas in a future version. Use pandas.concat instead.\n",
      "  components = components.append(new_comp)\n"
     ]
    },
    {
     "data": {
      "text/html": [
       "<div>\n",
       "<style scoped>\n",
       "    .dataframe tbody tr th:only-of-type {\n",
       "        vertical-align: middle;\n",
       "    }\n",
       "\n",
       "    .dataframe tbody tr th {\n",
       "        vertical-align: top;\n",
       "    }\n",
       "\n",
       "    .dataframe thead th {\n",
       "        text-align: right;\n",
       "    }\n",
       "</style>\n",
       "<table border=\"1\" class=\"dataframe\">\n",
       "  <thead>\n",
       "    <tr style=\"text-align: right;\">\n",
       "      <th></th>\n",
       "      <th>ds</th>\n",
       "      <th>yhat</th>\n",
       "      <th>yhat_lower</th>\n",
       "      <th>yhat_upper</th>\n",
       "    </tr>\n",
       "  </thead>\n",
       "  <tbody>\n",
       "    <tr>\n",
       "      <th>52</th>\n",
       "      <td>2020-10-16</td>\n",
       "      <td>302.849614</td>\n",
       "      <td>300.399876</td>\n",
       "      <td>305.449611</td>\n",
       "    </tr>\n",
       "    <tr>\n",
       "      <th>53</th>\n",
       "      <td>2020-10-19</td>\n",
       "      <td>306.021515</td>\n",
       "      <td>303.579280</td>\n",
       "      <td>308.371929</td>\n",
       "    </tr>\n",
       "    <tr>\n",
       "      <th>54</th>\n",
       "      <td>2020-10-20</td>\n",
       "      <td>303.305867</td>\n",
       "      <td>300.794678</td>\n",
       "      <td>305.729009</td>\n",
       "    </tr>\n",
       "    <tr>\n",
       "      <th>55</th>\n",
       "      <td>2020-10-21</td>\n",
       "      <td>292.958567</td>\n",
       "      <td>290.365267</td>\n",
       "      <td>295.521030</td>\n",
       "    </tr>\n",
       "    <tr>\n",
       "      <th>56</th>\n",
       "      <td>2020-10-22</td>\n",
       "      <td>270.860362</td>\n",
       "      <td>268.500990</td>\n",
       "      <td>273.503728</td>\n",
       "    </tr>\n",
       "  </tbody>\n",
       "</table>\n",
       "</div>"
      ],
      "text/plain": [
       "           ds        yhat  yhat_lower  yhat_upper\n",
       "52 2020-10-16  302.849614  300.399876  305.449611\n",
       "53 2020-10-19  306.021515  303.579280  308.371929\n",
       "54 2020-10-20  303.305867  300.794678  305.729009\n",
       "55 2020-10-21  292.958567  290.365267  295.521030\n",
       "56 2020-10-22  270.860362  268.500990  273.503728"
      ]
     },
     "execution_count": 13,
     "metadata": {},
     "output_type": "execute_result"
    }
   ],
   "source": [
    "forecast = m.predict(df_test)\n",
    "forecast[['ds', 'yhat', 'yhat_lower', 'yhat_upper']].tail()"
   ]
  },
  {
   "cell_type": "code",
   "execution_count": 56,
   "id": "e4688424",
   "metadata": {},
   "outputs": [
    {
     "data": {
      "text/plain": [
       "(72, 31)"
      ]
     },
     "execution_count": 56,
     "metadata": {},
     "output_type": "execute_result"
    }
   ],
   "source": [
    "forecast.shape"
   ]
  },
  {
   "cell_type": "code",
   "execution_count": 14,
   "id": "fcd50336",
   "metadata": {},
   "outputs": [
    {
     "data": {
      "image/png": "[encoded data removed]",
      "text/plain": [
       "<Figure size 720x432 with 1 Axes>"
      ]
     },
     "metadata": {},
     "output_type": "display_data"
    }
   ],
   "source": [
    "fig1 = m.plot(forecast)"
   ]
  },
  {
   "cell_type": "code",
   "execution_count": 16,
   "id": "64f94726",
   "metadata": {},
   "outputs": [
    {
     "data": {
      "text/plain": [
       "[<matplotlib.lines.Line2D at 0x127388e50>]"
      ]
     },
     "execution_count": 16,
     "metadata": {},
     "output_type": "execute_result"
    },
    {
     "data": {
      "image/png": "[encoded data removed]",
      "text/plain": [
       "<Figure size 864x576 with 1 Axes>"
      ]
     },
     "metadata": {
      "needs_background": "light"
     },
     "output_type": "display_data"
    }
   ],
   "source": [
    "import matplotlib.pyplot as plt\n",
    "plt.figure(figsize=(12, 8))\n",
    "plt.plot(data_yh['Open'][0:680], color='r')\n",
    "plt.plot(forecast['yhat'][0:680])\n"
   ]
  },
  {
   "cell_type": "code",
   "execution_count": 18,
   "id": "685b4b72",
   "metadata": {},
   "outputs": [
    {
     "data": {
      "text/plain": [
       "[<matplotlib.lines.Line2D at 0x1278ff280>]"
      ]
     },
     "execution_count": 18,
     "metadata": {},
     "output_type": "execute_result"
    },
    {
     "data": {
      "image/png": "[encoded data removed]",
      "text/plain": [
       "<Figure size 864x576 with 1 Axes>"
      ]
     },
     "metadata": {
      "needs_background": "light"
     },
     "output_type": "display_data"
    }
   ],
   "source": [
    "plt.figure(figsize=(12, 8))\n",
    "plt.plot(df_test['y'], color='r')\n",
    "plt.plot(forecast['yhat'])\n",
    "# plt.plot(forecast['yhat_lower'])\n",
    "# plt.plot(forecast['yhat_upper'])"
   ]
  },
  {
   "cell_type": "code",
   "execution_count": 62,
   "id": "4069f168",
   "metadata": {},
   "outputs": [
    {
     "data": {
      "text/html": [
       "<div>\n",
       "<style scoped>\n",
       "    .dataframe tbody tr th:only-of-type {\n",
       "        vertical-align: middle;\n",
       "    }\n",
       "\n",
       "    .dataframe tbody tr th {\n",
       "        vertical-align: top;\n",
       "    }\n",
       "\n",
       "    .dataframe thead th {\n",
       "        text-align: right;\n",
       "    }\n",
       "</style>\n",
       "<table border=\"1\" class=\"dataframe\">\n",
       "  <thead>\n",
       "    <tr style=\"text-align: right;\">\n",
       "      <th></th>\n",
       "      <th>ds</th>\n",
       "      <th>trend</th>\n",
       "      <th>yhat_lower</th>\n",
       "      <th>yhat_upper</th>\n",
       "      <th>trend_lower</th>\n",
       "      <th>trend_upper</th>\n",
       "      <th>additive_terms</th>\n",
       "      <th>additive_terms_lower</th>\n",
       "      <th>additive_terms_upper</th>\n",
       "      <th>close</th>\n",
       "      <th>...</th>\n",
       "      <th>weekly</th>\n",
       "      <th>weekly_lower</th>\n",
       "      <th>weekly_upper</th>\n",
       "      <th>yearly</th>\n",
       "      <th>yearly_lower</th>\n",
       "      <th>yearly_upper</th>\n",
       "      <th>multiplicative_terms</th>\n",
       "      <th>multiplicative_terms_lower</th>\n",
       "      <th>multiplicative_terms_upper</th>\n",
       "      <th>yhat</th>\n",
       "    </tr>\n",
       "  </thead>\n",
       "  <tbody>\n",
       "    <tr>\n",
       "      <th>0</th>\n",
       "      <td>2019-09-17</td>\n",
       "      <td>91.976772</td>\n",
       "      <td>136.591357</td>\n",
       "      <td>137.802840</td>\n",
       "      <td>91.976772</td>\n",
       "      <td>91.976772</td>\n",
       "      <td>45.204672</td>\n",
       "      <td>45.204672</td>\n",
       "      <td>45.204672</td>\n",
       "      <td>-27.050514</td>\n",
       "      <td>...</td>\n",
       "      <td>5.529657</td>\n",
       "      <td>5.529657</td>\n",
       "      <td>5.529657</td>\n",
       "      <td>0.139604</td>\n",
       "      <td>0.139604</td>\n",
       "      <td>0.139604</td>\n",
       "      <td>0.0</td>\n",
       "      <td>0.0</td>\n",
       "      <td>0.0</td>\n",
       "      <td>137.181445</td>\n",
       "    </tr>\n",
       "    <tr>\n",
       "      <th>1</th>\n",
       "      <td>2019-09-18</td>\n",
       "      <td>91.980510</td>\n",
       "      <td>136.917997</td>\n",
       "      <td>138.135940</td>\n",
       "      <td>91.980510</td>\n",
       "      <td>91.980510</td>\n",
       "      <td>45.535102</td>\n",
       "      <td>45.535102</td>\n",
       "      <td>45.535102</td>\n",
       "      <td>-27.794669</td>\n",
       "      <td>...</td>\n",
       "      <td>5.474905</td>\n",
       "      <td>5.474905</td>\n",
       "      <td>5.474905</td>\n",
       "      <td>0.144431</td>\n",
       "      <td>0.144431</td>\n",
       "      <td>0.144431</td>\n",
       "      <td>0.0</td>\n",
       "      <td>0.0</td>\n",
       "      <td>0.0</td>\n",
       "      <td>137.515611</td>\n",
       "    </tr>\n",
       "    <tr>\n",
       "      <th>2</th>\n",
       "      <td>2019-09-19</td>\n",
       "      <td>91.984247</td>\n",
       "      <td>141.149322</td>\n",
       "      <td>142.389527</td>\n",
       "      <td>91.984247</td>\n",
       "      <td>91.984247</td>\n",
       "      <td>49.780811</td>\n",
       "      <td>49.780811</td>\n",
       "      <td>49.780811</td>\n",
       "      <td>-29.473951</td>\n",
       "      <td>...</td>\n",
       "      <td>5.454510</td>\n",
       "      <td>5.454510</td>\n",
       "      <td>5.454510</td>\n",
       "      <td>0.149562</td>\n",
       "      <td>0.149562</td>\n",
       "      <td>0.149562</td>\n",
       "      <td>0.0</td>\n",
       "      <td>0.0</td>\n",
       "      <td>0.0</td>\n",
       "      <td>141.765057</td>\n",
       "    </tr>\n",
       "    <tr>\n",
       "      <th>3</th>\n",
       "      <td>2019-09-20</td>\n",
       "      <td>91.987984</td>\n",
       "      <td>140.303876</td>\n",
       "      <td>141.560107</td>\n",
       "      <td>91.987984</td>\n",
       "      <td>91.987984</td>\n",
       "      <td>48.922642</td>\n",
       "      <td>48.922642</td>\n",
       "      <td>48.922642</td>\n",
       "      <td>-28.400526</td>\n",
       "      <td>...</td>\n",
       "      <td>5.489766</td>\n",
       "      <td>5.489766</td>\n",
       "      <td>5.489766</td>\n",
       "      <td>0.154874</td>\n",
       "      <td>0.154874</td>\n",
       "      <td>0.154874</td>\n",
       "      <td>0.0</td>\n",
       "      <td>0.0</td>\n",
       "      <td>0.0</td>\n",
       "      <td>140.910626</td>\n",
       "    </tr>\n",
       "    <tr>\n",
       "      <th>4</th>\n",
       "      <td>2019-09-23</td>\n",
       "      <td>91.999196</td>\n",
       "      <td>138.820129</td>\n",
       "      <td>140.032064</td>\n",
       "      <td>91.999196</td>\n",
       "      <td>91.999196</td>\n",
       "      <td>47.421319</td>\n",
       "      <td>47.421319</td>\n",
       "      <td>47.421319</td>\n",
       "      <td>-28.202961</td>\n",
       "      <td>...</td>\n",
       "      <td>5.486743</td>\n",
       "      <td>5.486743</td>\n",
       "      <td>5.486743</td>\n",
       "      <td>0.170374</td>\n",
       "      <td>0.170374</td>\n",
       "      <td>0.170374</td>\n",
       "      <td>0.0</td>\n",
       "      <td>0.0</td>\n",
       "      <td>0.0</td>\n",
       "      <td>139.420515</td>\n",
       "    </tr>\n",
       "    <tr>\n",
       "      <th>...</th>\n",
       "      <td>...</td>\n",
       "      <td>...</td>\n",
       "      <td>...</td>\n",
       "      <td>...</td>\n",
       "      <td>...</td>\n",
       "      <td>...</td>\n",
       "      <td>...</td>\n",
       "      <td>...</td>\n",
       "      <td>...</td>\n",
       "      <td>...</td>\n",
       "      <td>...</td>\n",
       "      <td>...</td>\n",
       "      <td>...</td>\n",
       "      <td>...</td>\n",
       "      <td>...</td>\n",
       "      <td>...</td>\n",
       "      <td>...</td>\n",
       "      <td>...</td>\n",
       "      <td>...</td>\n",
       "      <td>...</td>\n",
       "      <td>...</td>\n",
       "    </tr>\n",
       "    <tr>\n",
       "      <th>67</th>\n",
       "      <td>2019-12-20</td>\n",
       "      <td>92.328085</td>\n",
       "      <td>157.175035</td>\n",
       "      <td>158.388182</td>\n",
       "      <td>92.246221</td>\n",
       "      <td>92.410244</td>\n",
       "      <td>65.447742</td>\n",
       "      <td>65.447742</td>\n",
       "      <td>65.447742</td>\n",
       "      <td>-40.234514</td>\n",
       "      <td>...</td>\n",
       "      <td>5.489766</td>\n",
       "      <td>5.489766</td>\n",
       "      <td>5.489766</td>\n",
       "      <td>0.086408</td>\n",
       "      <td>0.086408</td>\n",
       "      <td>0.086408</td>\n",
       "      <td>0.0</td>\n",
       "      <td>0.0</td>\n",
       "      <td>0.0</td>\n",
       "      <td>157.775827</td>\n",
       "    </tr>\n",
       "    <tr>\n",
       "      <th>68</th>\n",
       "      <td>2019-12-23</td>\n",
       "      <td>92.339297</td>\n",
       "      <td>157.529977</td>\n",
       "      <td>158.819817</td>\n",
       "      <td>92.252613</td>\n",
       "      <td>92.425041</td>\n",
       "      <td>65.812154</td>\n",
       "      <td>65.812154</td>\n",
       "      <td>65.812154</td>\n",
       "      <td>-40.234514</td>\n",
       "      <td>...</td>\n",
       "      <td>5.486743</td>\n",
       "      <td>5.486743</td>\n",
       "      <td>5.486743</td>\n",
       "      <td>0.085270</td>\n",
       "      <td>0.085270</td>\n",
       "      <td>0.085270</td>\n",
       "      <td>0.0</td>\n",
       "      <td>0.0</td>\n",
       "      <td>0.0</td>\n",
       "      <td>158.151451</td>\n",
       "    </tr>\n",
       "    <tr>\n",
       "      <th>69</th>\n",
       "      <td>2019-12-24</td>\n",
       "      <td>92.343035</td>\n",
       "      <td>157.123909</td>\n",
       "      <td>158.375110</td>\n",
       "      <td>92.254573</td>\n",
       "      <td>92.429454</td>\n",
       "      <td>65.388343</td>\n",
       "      <td>65.388343</td>\n",
       "      <td>65.388343</td>\n",
       "      <td>-40.214759</td>\n",
       "      <td>...</td>\n",
       "      <td>5.529657</td>\n",
       "      <td>5.529657</td>\n",
       "      <td>5.529657</td>\n",
       "      <td>0.082210</td>\n",
       "      <td>0.082210</td>\n",
       "      <td>0.082210</td>\n",
       "      <td>0.0</td>\n",
       "      <td>0.0</td>\n",
       "      <td>0.0</td>\n",
       "      <td>157.731377</td>\n",
       "    </tr>\n",
       "    <tr>\n",
       "      <th>70</th>\n",
       "      <td>2019-12-26</td>\n",
       "      <td>92.350509</td>\n",
       "      <td>157.335203</td>\n",
       "      <td>158.619273</td>\n",
       "      <td>92.258767</td>\n",
       "      <td>92.439378</td>\n",
       "      <td>65.589672</td>\n",
       "      <td>65.589672</td>\n",
       "      <td>65.589672</td>\n",
       "      <td>-41.064272</td>\n",
       "      <td>...</td>\n",
       "      <td>5.454510</td>\n",
       "      <td>5.454510</td>\n",
       "      <td>5.454510</td>\n",
       "      <td>0.072775</td>\n",
       "      <td>0.072775</td>\n",
       "      <td>0.072775</td>\n",
       "      <td>0.0</td>\n",
       "      <td>0.0</td>\n",
       "      <td>0.0</td>\n",
       "      <td>157.940181</td>\n",
       "    </tr>\n",
       "    <tr>\n",
       "      <th>71</th>\n",
       "      <td>2019-12-27</td>\n",
       "      <td>92.354247</td>\n",
       "      <td>158.521175</td>\n",
       "      <td>159.789035</td>\n",
       "      <td>92.260674</td>\n",
       "      <td>92.445162</td>\n",
       "      <td>66.769987</td>\n",
       "      <td>66.769987</td>\n",
       "      <td>66.769987</td>\n",
       "      <td>-41.255255</td>\n",
       "      <td>...</td>\n",
       "      <td>5.489766</td>\n",
       "      <td>5.489766</td>\n",
       "      <td>5.489766</td>\n",
       "      <td>0.066731</td>\n",
       "      <td>0.066731</td>\n",
       "      <td>0.066731</td>\n",
       "      <td>0.0</td>\n",
       "      <td>0.0</td>\n",
       "      <td>0.0</td>\n",
       "      <td>159.124234</td>\n",
       "    </tr>\n",
       "  </tbody>\n",
       "</table>\n",
       "<p>72 rows × 31 columns</p>\n",
       "</div>"
      ],
      "text/plain": [
       "           ds      trend  yhat_lower  yhat_upper  trend_lower  trend_upper  \\\n",
       "0  2019-09-17  91.976772  136.591357  137.802840    91.976772    91.976772   \n",
       "1  2019-09-18  91.980510  136.917997  138.135940    91.980510    91.980510   \n",
       "2  2019-09-19  91.984247  141.149322  142.389527    91.984247    91.984247   \n",
       "3  2019-09-20  91.987984  140.303876  141.560107    91.987984    91.987984   \n",
       "4  2019-09-23  91.999196  138.820129  140.032064    91.999196    91.999196   \n",
       "..        ...        ...         ...         ...          ...          ...   \n",
       "67 2019-12-20  92.328085  157.175035  158.388182    92.246221    92.410244   \n",
       "68 2019-12-23  92.339297  157.529977  158.819817    92.252613    92.425041   \n",
       "69 2019-12-24  92.343035  157.123909  158.375110    92.254573    92.429454   \n",
       "70 2019-12-26  92.350509  157.335203  158.619273    92.258767    92.439378   \n",
       "71 2019-12-27  92.354247  158.521175  159.789035    92.260674    92.445162   \n",
       "\n",
       "    additive_terms  additive_terms_lower  additive_terms_upper      close  \\\n",
       "0        45.204672             45.204672             45.204672 -27.050514   \n",
       "1        45.535102             45.535102             45.535102 -27.794669   \n",
       "2        49.780811             49.780811             49.780811 -29.473951   \n",
       "3        48.922642             48.922642             48.922642 -28.400526   \n",
       "4        47.421319             47.421319             47.421319 -28.202961   \n",
       "..             ...                   ...                   ...        ...   \n",
       "67       65.447742             65.447742             65.447742 -40.234514   \n",
       "68       65.812154             65.812154             65.812154 -40.234514   \n",
       "69       65.388343             65.388343             65.388343 -40.214759   \n",
       "70       65.589672             65.589672             65.589672 -41.064272   \n",
       "71       66.769987             66.769987             66.769987 -41.255255   \n",
       "\n",
       "    ...    weekly  weekly_lower  weekly_upper    yearly  yearly_lower  \\\n",
       "0   ...  5.529657      5.529657      5.529657  0.139604      0.139604   \n",
       "1   ...  5.474905      5.474905      5.474905  0.144431      0.144431   \n",
       "2   ...  5.454510      5.454510      5.454510  0.149562      0.149562   \n",
       "3   ...  5.489766      5.489766      5.489766  0.154874      0.154874   \n",
       "4   ...  5.486743      5.486743      5.486743  0.170374      0.170374   \n",
       "..  ...       ...           ...           ...       ...           ...   \n",
       "67  ...  5.489766      5.489766      5.489766  0.086408      0.086408   \n",
       "68  ...  5.486743      5.486743      5.486743  0.085270      0.085270   \n",
       "69  ...  5.529657      5.529657      5.529657  0.082210      0.082210   \n",
       "70  ...  5.454510      5.454510      5.454510  0.072775      0.072775   \n",
       "71  ...  5.489766      5.489766      5.489766  0.066731      0.066731   \n",
       "\n",
       "    yearly_upper  multiplicative_terms  multiplicative_terms_lower  \\\n",
       "0       0.139604                   0.0                         0.0   \n",
       "1       0.144431                   0.0                         0.0   \n",
       "2       0.149562                   0.0                         0.0   \n",
       "3       0.154874                   0.0                         0.0   \n",
       "4       0.170374                   0.0                         0.0   \n",
       "..           ...                   ...                         ...   \n",
       "67      0.086408                   0.0                         0.0   \n",
       "68      0.085270                   0.0                         0.0   \n",
       "69      0.082210                   0.0                         0.0   \n",
       "70      0.072775                   0.0                         0.0   \n",
       "71      0.066731                   0.0                         0.0   \n",
       "\n",
       "    multiplicative_terms_upper        yhat  \n",
       "0                          0.0  137.181445  \n",
       "1                          0.0  137.515611  \n",
       "2                          0.0  141.765057  \n",
       "3                          0.0  140.910626  \n",
       "4                          0.0  139.420515  \n",
       "..                         ...         ...  \n",
       "67                         0.0  157.775827  \n",
       "68                         0.0  158.151451  \n",
       "69                         0.0  157.731377  \n",
       "70                         0.0  157.940181  \n",
       "71                         0.0  159.124234  \n",
       "\n",
       "[72 rows x 31 columns]"
      ]
     },
     "execution_count": 62,
     "metadata": {},
     "output_type": "execute_result"
    }
   ],
   "source": [
    "forecast"
   ]
  },
  {
   "cell_type": "code",
   "execution_count": 66,
   "id": "70cb3fab",
   "metadata": {},
   "outputs": [],
   "source": [
    "df_test=df_test.reset_index()"
   ]
  },
  {
   "cell_type": "code",
   "execution_count": null,
   "id": "cae24a03",
   "metadata": {},
   "outputs": [],
   "source": []
  }
 ],
 "metadata": {
  "kernelspec": {
   "display_name": "Python 3 (ipykernel)",
   "language": "python",
   "name": "python3"
  },
  "language_info": {
   "codemirror_mode": {
    "name": "ipython",
    "version": 3
   },
   "file_extension": ".py",
   "mimetype": "text/x-python",
   "name": "python",
   "nbconvert_exporter": "python",
   "pygments_lexer": "ipython3",
   "version": "3.9.10"
  }
 },
 "nbformat": 4,
 "nbformat_minor": 5
}
